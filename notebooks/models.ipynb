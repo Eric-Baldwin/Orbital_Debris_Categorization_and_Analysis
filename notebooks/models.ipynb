{
 "cells": [
  {
   "cell_type": "markdown",
   "metadata": {},
   "source": [
    "# Imports"
   ]
  },
  {
   "cell_type": "code",
   "execution_count": 21,
   "metadata": {},
   "outputs": [],
   "source": [
    "import pandas as pd\n",
    "import numpy as np\n",
    "from sklearn.model_selection import train_test_split, GridSearchCV\n",
    "from sklearn.preprocessing import LabelEncoder, PolynomialFeatures, StandardScaler\n",
    "from sklearn.impute import SimpleImputer\n",
    "from sklearn.linear_model import LogisticRegression\n",
    "from sklearn.metrics import classification_report\n",
    "from imblearn.over_sampling import SMOTE"
   ]
  },
  {
   "cell_type": "markdown",
   "metadata": {},
   "source": [
    "# Loaded the dataset"
   ]
  },
  {
   "cell_type": "code",
   "execution_count": 22,
   "metadata": {},
   "outputs": [
    {
     "name": "stdout",
     "output_type": "stream",
     "text": [
      "   CCSDS_OMM_VERS                            COMMENT        CREATION_DATE  \\\n",
      "0               2  GENERATED VIA SPACE-TRACK.ORG API  2021-11-01T06:46:11   \n",
      "1               2  GENERATED VIA SPACE-TRACK.ORG API  2021-11-01T04:58:37   \n",
      "2               2  GENERATED VIA SPACE-TRACK.ORG API  2021-11-01T06:26:11   \n",
      "3               2  GENERATED VIA SPACE-TRACK.ORG API  2021-10-31T18:07:15   \n",
      "4               2  GENERATED VIA SPACE-TRACK.ORG API  2021-11-01T04:58:37   \n",
      "\n",
      "  ORIGINATOR      OBJECT_NAME   OBJECT_ID CENTER_NAME REF_FRAME TIME_SYSTEM  \\\n",
      "0    18 SPCS  ARIANE 42P+ DEB   1992-072J       EARTH      TEME         UTC   \n",
      "1    18 SPCS         SL-8 DEB   1979-028C       EARTH      TEME         UTC   \n",
      "2    18 SPCS           GSAT 1   2001-015A       EARTH      TEME         UTC   \n",
      "3    18 SPCS         CZ-4 DEB  1999-057MB       EARTH      TEME         UTC   \n",
      "4    18 SPCS         CZ-4 DEB  1999-057MC       EARTH      TEME         UTC   \n",
      "\n",
      "  MEAN_ELEMENT_THEORY  ... RCS_SIZE  COUNTRY_CODE  LAUNCH_DATE   SITE  \\\n",
      "0                SGP4  ...   MEDIUM            FR       1992.0  FRGUI   \n",
      "1                SGP4  ...    SMALL           CIS       1979.0  PKMTR   \n",
      "2                SGP4  ...    LARGE           IND       2001.0    SRI   \n",
      "3                SGP4  ...    SMALL           PRC       1999.0    TSC   \n",
      "4                SGP4  ...    SMALL           PRC       1999.0    TSC   \n",
      "\n",
      "   DECAY_DATE     FILE      GP_ID          TLE_LINE0  \\\n",
      "0         NaN  3195178  188614016  0 ARIANE 42P+ DEB   \n",
      "1         NaN  3194950  188593285         0 SL-8 DEB   \n",
      "2         NaN  3195026  188609573           0 GSAT 1   \n",
      "3         NaN  3194431  188556894         0 CZ-4 DEB   \n",
      "4         NaN  3194950  188592541         0 CZ-4 DEB   \n",
      "\n",
      "                                           TLE_LINE1  \\\n",
      "0  1 26741U 92072J   21304.94919376  .00000883  0...   \n",
      "1  1 26743U 79028C   21304.68908982  .00000079  0...   \n",
      "2  1 26745U 01015A   21305.22411368 -.00000165  0...   \n",
      "3  1 26754U 99057MB  21304.46625230  .00002265  0...   \n",
      "4  1 26755U 99057MC  21304.74081807  .00002610  0...   \n",
      "\n",
      "                                           TLE_LINE2  \n",
      "0  2 26741   7.7156  90.2410 6528926 243.1216  38...  \n",
      "1  2 26743  82.9193 299.1120 0030720 158.9093 201...  \n",
      "2  2 26745  12.1717  16.5368 0237386 250.1248 146...  \n",
      "3  2 26754  98.4781   8.7205 0060618  37.3771 323...  \n",
      "4  2 26755  98.4232 122.0724 0062255 345.1605  27...  \n",
      "\n",
      "[5 rows x 40 columns]\n"
     ]
    }
   ],
   "source": [
    "df = pd.read_csv('/home/eric_baldwin/ddiMain/capstone/ddi_capstone_2/data/space_decay.csv')\n",
    "print(df.head())"
   ]
  },
  {
   "cell_type": "markdown",
   "metadata": {},
   "source": [
    "# Dropped unnecessary columns"
   ]
  },
  {
   "cell_type": "code",
   "execution_count": 23,
   "metadata": {},
   "outputs": [
    {
     "name": "stdout",
     "output_type": "stream",
     "text": [
      "   CCSDS_OMM_VERS                            COMMENT        CREATION_DATE  \\\n",
      "0               2  GENERATED VIA SPACE-TRACK.ORG API  2021-11-01T06:46:11   \n",
      "1               2  GENERATED VIA SPACE-TRACK.ORG API  2021-11-01T04:58:37   \n",
      "2               2  GENERATED VIA SPACE-TRACK.ORG API  2021-11-01T06:26:11   \n",
      "3               2  GENERATED VIA SPACE-TRACK.ORG API  2021-10-31T18:07:15   \n",
      "4               2  GENERATED VIA SPACE-TRACK.ORG API  2021-11-01T04:58:37   \n",
      "\n",
      "  ORIGINATOR      OBJECT_NAME   OBJECT_ID CENTER_NAME REF_FRAME TIME_SYSTEM  \\\n",
      "0    18 SPCS  ARIANE 42P+ DEB   1992-072J       EARTH      TEME         UTC   \n",
      "1    18 SPCS         SL-8 DEB   1979-028C       EARTH      TEME         UTC   \n",
      "2    18 SPCS           GSAT 1   2001-015A       EARTH      TEME         UTC   \n",
      "3    18 SPCS         CZ-4 DEB  1999-057MB       EARTH      TEME         UTC   \n",
      "4    18 SPCS         CZ-4 DEB  1999-057MC       EARTH      TEME         UTC   \n",
      "\n",
      "  MEAN_ELEMENT_THEORY  ... OBJECT_TYPE  RCS_SIZE  COUNTRY_CODE  LAUNCH_DATE  \\\n",
      "0                SGP4  ...      DEBRIS    MEDIUM            FR       1992.0   \n",
      "1                SGP4  ...      DEBRIS     SMALL           CIS       1979.0   \n",
      "2                SGP4  ...     PAYLOAD     LARGE           IND       2001.0   \n",
      "3                SGP4  ...      DEBRIS     SMALL           PRC       1999.0   \n",
      "4                SGP4  ...      DEBRIS     SMALL           PRC       1999.0   \n",
      "\n",
      "    SITE     FILE      GP_ID          TLE_LINE0  \\\n",
      "0  FRGUI  3195178  188614016  0 ARIANE 42P+ DEB   \n",
      "1  PKMTR  3194950  188593285         0 SL-8 DEB   \n",
      "2    SRI  3195026  188609573           0 GSAT 1   \n",
      "3    TSC  3194431  188556894         0 CZ-4 DEB   \n",
      "4    TSC  3194950  188592541         0 CZ-4 DEB   \n",
      "\n",
      "                                           TLE_LINE1  \\\n",
      "0  1 26741U 92072J   21304.94919376  .00000883  0...   \n",
      "1  1 26743U 79028C   21304.68908982  .00000079  0...   \n",
      "2  1 26745U 01015A   21305.22411368 -.00000165  0...   \n",
      "3  1 26754U 99057MB  21304.46625230  .00002265  0...   \n",
      "4  1 26755U 99057MC  21304.74081807  .00002610  0...   \n",
      "\n",
      "                                           TLE_LINE2  \n",
      "0  2 26741   7.7156  90.2410 6528926 243.1216  38...  \n",
      "1  2 26743  82.9193 299.1120 0030720 158.9093 201...  \n",
      "2  2 26745  12.1717  16.5368 0237386 250.1248 146...  \n",
      "3  2 26754  98.4781   8.7205 0060618  37.3771 323...  \n",
      "4  2 26755  98.4232 122.0724 0062255 345.1605  27...  \n",
      "\n",
      "[5 rows x 39 columns]\n"
     ]
    }
   ],
   "source": [
    "df = df.drop(labels=['DECAY_DATE'], axis=1)\n",
    "print(df.head())"
   ]
  },
  {
   "cell_type": "markdown",
   "metadata": {},
   "source": [
    "# Renamed object type for better presentation"
   ]
  },
  {
   "cell_type": "code",
   "execution_count": 24,
   "metadata": {},
   "outputs": [
    {
     "name": "stdout",
     "output_type": "stream",
     "text": [
      "   CCSDS_OMM_VERS                            COMMENT        CREATION_DATE  \\\n",
      "0               2  GENERATED VIA SPACE-TRACK.ORG API  2021-11-01T06:46:11   \n",
      "1               2  GENERATED VIA SPACE-TRACK.ORG API  2021-11-01T04:58:37   \n",
      "2               2  GENERATED VIA SPACE-TRACK.ORG API  2021-11-01T06:26:11   \n",
      "3               2  GENERATED VIA SPACE-TRACK.ORG API  2021-10-31T18:07:15   \n",
      "4               2  GENERATED VIA SPACE-TRACK.ORG API  2021-11-01T04:58:37   \n",
      "\n",
      "  ORIGINATOR      OBJECT_NAME   OBJECT_ID CENTER_NAME REF_FRAME TIME_SYSTEM  \\\n",
      "0    18 SPCS  ARIANE 42P+ DEB   1992-072J       EARTH      TEME         UTC   \n",
      "1    18 SPCS         SL-8 DEB   1979-028C       EARTH      TEME         UTC   \n",
      "2    18 SPCS           GSAT 1   2001-015A       EARTH      TEME         UTC   \n",
      "3    18 SPCS         CZ-4 DEB  1999-057MB       EARTH      TEME         UTC   \n",
      "4    18 SPCS         CZ-4 DEB  1999-057MC       EARTH      TEME         UTC   \n",
      "\n",
      "  MEAN_ELEMENT_THEORY  ... OBJECT_TYPE  RCS_SIZE  COUNTRY_CODE  LAUNCH_DATE  \\\n",
      "0                SGP4  ...      Debris    MEDIUM            FR       1992.0   \n",
      "1                SGP4  ...      Debris     SMALL           CIS       1979.0   \n",
      "2                SGP4  ...     Payload     LARGE           IND       2001.0   \n",
      "3                SGP4  ...      Debris     SMALL           PRC       1999.0   \n",
      "4                SGP4  ...      Debris     SMALL           PRC       1999.0   \n",
      "\n",
      "    SITE     FILE      GP_ID          TLE_LINE0  \\\n",
      "0  FRGUI  3195178  188614016  0 ARIANE 42P+ DEB   \n",
      "1  PKMTR  3194950  188593285         0 SL-8 DEB   \n",
      "2    SRI  3195026  188609573           0 GSAT 1   \n",
      "3    TSC  3194431  188556894         0 CZ-4 DEB   \n",
      "4    TSC  3194950  188592541         0 CZ-4 DEB   \n",
      "\n",
      "                                           TLE_LINE1  \\\n",
      "0  1 26741U 92072J   21304.94919376  .00000883  0...   \n",
      "1  1 26743U 79028C   21304.68908982  .00000079  0...   \n",
      "2  1 26745U 01015A   21305.22411368 -.00000165  0...   \n",
      "3  1 26754U 99057MB  21304.46625230  .00002265  0...   \n",
      "4  1 26755U 99057MC  21304.74081807  .00002610  0...   \n",
      "\n",
      "                                           TLE_LINE2  \n",
      "0  2 26741   7.7156  90.2410 6528926 243.1216  38...  \n",
      "1  2 26743  82.9193 299.1120 0030720 158.9093 201...  \n",
      "2  2 26745  12.1717  16.5368 0237386 250.1248 146...  \n",
      "3  2 26754  98.4781   8.7205 0060618  37.3771 323...  \n",
      "4  2 26755  98.4232 122.0724 0062255 345.1605  27...  \n",
      "\n",
      "[5 rows x 39 columns]\n"
     ]
    }
   ],
   "source": [
    "df['OBJECT_TYPE'] = df['OBJECT_TYPE'].replace({'DEBRIS': 'Debris', 'PAYLOAD': 'Payload', 'TBA': 'Unknown', 'ROCKET BODY': 'Rocket'})\n",
    "print(df.head())"
   ]
  },
  {
   "cell_type": "markdown",
   "metadata": {},
   "source": [
    "# Filled missing values for categorical columns with 'Unknown'"
   ]
  },
  {
   "cell_type": "code",
   "execution_count": 25,
   "metadata": {},
   "outputs": [
    {
     "name": "stdout",
     "output_type": "stream",
     "text": [
      "   CCSDS_OMM_VERS                            COMMENT        CREATION_DATE  \\\n",
      "0               2  GENERATED VIA SPACE-TRACK.ORG API  2021-11-01T06:46:11   \n",
      "1               2  GENERATED VIA SPACE-TRACK.ORG API  2021-11-01T04:58:37   \n",
      "2               2  GENERATED VIA SPACE-TRACK.ORG API  2021-11-01T06:26:11   \n",
      "3               2  GENERATED VIA SPACE-TRACK.ORG API  2021-10-31T18:07:15   \n",
      "4               2  GENERATED VIA SPACE-TRACK.ORG API  2021-11-01T04:58:37   \n",
      "\n",
      "  ORIGINATOR      OBJECT_NAME   OBJECT_ID CENTER_NAME REF_FRAME TIME_SYSTEM  \\\n",
      "0    18 SPCS  ARIANE 42P+ DEB   1992-072J       EARTH      TEME         UTC   \n",
      "1    18 SPCS         SL-8 DEB   1979-028C       EARTH      TEME         UTC   \n",
      "2    18 SPCS           GSAT 1   2001-015A       EARTH      TEME         UTC   \n",
      "3    18 SPCS         CZ-4 DEB  1999-057MB       EARTH      TEME         UTC   \n",
      "4    18 SPCS         CZ-4 DEB  1999-057MC       EARTH      TEME         UTC   \n",
      "\n",
      "  MEAN_ELEMENT_THEORY  ... OBJECT_TYPE  RCS_SIZE  COUNTRY_CODE  LAUNCH_DATE  \\\n",
      "0                SGP4  ...      Debris    MEDIUM            FR       1992.0   \n",
      "1                SGP4  ...      Debris     SMALL           CIS       1979.0   \n",
      "2                SGP4  ...     Payload     LARGE           IND       2001.0   \n",
      "3                SGP4  ...      Debris     SMALL           PRC       1999.0   \n",
      "4                SGP4  ...      Debris     SMALL           PRC       1999.0   \n",
      "\n",
      "    SITE     FILE      GP_ID          TLE_LINE0  \\\n",
      "0  FRGUI  3195178  188614016  0 ARIANE 42P+ DEB   \n",
      "1  PKMTR  3194950  188593285         0 SL-8 DEB   \n",
      "2    SRI  3195026  188609573           0 GSAT 1   \n",
      "3    TSC  3194431  188556894         0 CZ-4 DEB   \n",
      "4    TSC  3194950  188592541         0 CZ-4 DEB   \n",
      "\n",
      "                                           TLE_LINE1  \\\n",
      "0  1 26741U 92072J   21304.94919376  .00000883  0...   \n",
      "1  1 26743U 79028C   21304.68908982  .00000079  0...   \n",
      "2  1 26745U 01015A   21305.22411368 -.00000165  0...   \n",
      "3  1 26754U 99057MB  21304.46625230  .00002265  0...   \n",
      "4  1 26755U 99057MC  21304.74081807  .00002610  0...   \n",
      "\n",
      "                                           TLE_LINE2  \n",
      "0  2 26741   7.7156  90.2410 6528926 243.1216  38...  \n",
      "1  2 26743  82.9193 299.1120 0030720 158.9093 201...  \n",
      "2  2 26745  12.1717  16.5368 0237386 250.1248 146...  \n",
      "3  2 26754  98.4781   8.7205 0060618  37.3771 323...  \n",
      "4  2 26755  98.4232 122.0724 0062255 345.1605  27...  \n",
      "\n",
      "[5 rows x 39 columns]\n"
     ]
    }
   ],
   "source": [
    "df['COUNTRY_CODE'] = df['COUNTRY_CODE'].replace(to_replace={'TBD': 'Unknown', np.nan: 'Unknown'})\n",
    "df['RCS_SIZE'] = df['RCS_SIZE'].replace(to_replace={np.nan: 'Unknown'})\n",
    "print(df.head())"
   ]
  },
  {
   "cell_type": "markdown",
   "metadata": {},
   "source": [
    "# Created PERIOD_HOURS and ALTITUDE_MI columns"
   ]
  },
  {
   "cell_type": "code",
   "execution_count": 26,
   "metadata": {},
   "outputs": [
    {
     "name": "stdout",
     "output_type": "stream",
     "text": [
      "   CCSDS_OMM_VERS                            COMMENT        CREATION_DATE  \\\n",
      "0               2  GENERATED VIA SPACE-TRACK.ORG API  2021-11-01T06:46:11   \n",
      "1               2  GENERATED VIA SPACE-TRACK.ORG API  2021-11-01T04:58:37   \n",
      "2               2  GENERATED VIA SPACE-TRACK.ORG API  2021-11-01T06:26:11   \n",
      "3               2  GENERATED VIA SPACE-TRACK.ORG API  2021-10-31T18:07:15   \n",
      "4               2  GENERATED VIA SPACE-TRACK.ORG API  2021-11-01T04:58:37   \n",
      "\n",
      "  ORIGINATOR      OBJECT_NAME   OBJECT_ID CENTER_NAME REF_FRAME TIME_SYSTEM  \\\n",
      "0    18 SPCS  ARIANE 42P+ DEB   1992-072J       EARTH      TEME         UTC   \n",
      "1    18 SPCS         SL-8 DEB   1979-028C       EARTH      TEME         UTC   \n",
      "2    18 SPCS           GSAT 1   2001-015A       EARTH      TEME         UTC   \n",
      "3    18 SPCS         CZ-4 DEB  1999-057MB       EARTH      TEME         UTC   \n",
      "4    18 SPCS         CZ-4 DEB  1999-057MC       EARTH      TEME         UTC   \n",
      "\n",
      "  MEAN_ELEMENT_THEORY  ... COUNTRY_CODE  LAUNCH_DATE   SITE     FILE  \\\n",
      "0                SGP4  ...           FR       1992.0  FRGUI  3195178   \n",
      "1                SGP4  ...          CIS       1979.0  PKMTR  3194950   \n",
      "2                SGP4  ...          IND       2001.0    SRI  3195026   \n",
      "3                SGP4  ...          PRC       1999.0    TSC  3194431   \n",
      "4                SGP4  ...          PRC       1999.0    TSC  3194950   \n",
      "\n",
      "       GP_ID          TLE_LINE0  \\\n",
      "0  188614016  0 ARIANE 42P+ DEB   \n",
      "1  188593285         0 SL-8 DEB   \n",
      "2  188609573           0 GSAT 1   \n",
      "3  188556894         0 CZ-4 DEB   \n",
      "4  188592541         0 CZ-4 DEB   \n",
      "\n",
      "                                           TLE_LINE1  \\\n",
      "0  1 26741U 92072J   21304.94919376  .00000883  0...   \n",
      "1  1 26743U 79028C   21304.68908982  .00000079  0...   \n",
      "2  1 26745U 01015A   21305.22411368 -.00000165  0...   \n",
      "3  1 26754U 99057MB  21304.46625230  .00002265  0...   \n",
      "4  1 26755U 99057MC  21304.74081807  .00002610  0...   \n",
      "\n",
      "                                           TLE_LINE2 PERIOD_HOURS  \\\n",
      "0  2 26741   7.7156  90.2410 6528926 243.1216  38...     8.214400   \n",
      "1  2 26743  82.9193 299.1120 0030720 158.9093 201...     1.744817   \n",
      "2  2 26745  12.1717  16.5368 0237386 250.1248 146...    23.116400   \n",
      "3  2 26754  98.4781   8.7205 0060618  37.3771 323...     1.624267   \n",
      "4  2 26755  98.4232 122.0724 0062255 345.1605  27...     1.629933   \n",
      "\n",
      "    ALTITUDE_MI  \n",
      "0   8883.110063  \n",
      "1    613.246709  \n",
      "2  21637.923148  \n",
      "3    400.164419  \n",
      "4    410.306520  \n",
      "\n",
      "[5 rows x 41 columns]\n"
     ]
    }
   ],
   "source": [
    "df['PERIOD_HOURS'] = df['PERIOD'] / 60\n",
    "df['ALTITUDE_MI'] = (df['SEMIMAJOR_AXIS'] - 6371) * 0.6213\n",
    "print(df.head())"
   ]
  },
  {
   "cell_type": "markdown",
   "metadata": {},
   "source": [
    "# Converted OBJECT_TYPE to binary classification"
   ]
  },
  {
   "cell_type": "code",
   "execution_count": 27,
   "metadata": {},
   "outputs": [
    {
     "name": "stdout",
     "output_type": "stream",
     "text": [
      "   CCSDS_OMM_VERS                            COMMENT        CREATION_DATE  \\\n",
      "0               2  GENERATED VIA SPACE-TRACK.ORG API  2021-11-01T06:46:11   \n",
      "1               2  GENERATED VIA SPACE-TRACK.ORG API  2021-11-01T04:58:37   \n",
      "2               2  GENERATED VIA SPACE-TRACK.ORG API  2021-11-01T06:26:11   \n",
      "3               2  GENERATED VIA SPACE-TRACK.ORG API  2021-10-31T18:07:15   \n",
      "4               2  GENERATED VIA SPACE-TRACK.ORG API  2021-11-01T04:58:37   \n",
      "\n",
      "  ORIGINATOR      OBJECT_NAME   OBJECT_ID CENTER_NAME REF_FRAME TIME_SYSTEM  \\\n",
      "0    18 SPCS  ARIANE 42P+ DEB   1992-072J       EARTH      TEME         UTC   \n",
      "1    18 SPCS         SL-8 DEB   1979-028C       EARTH      TEME         UTC   \n",
      "2    18 SPCS           GSAT 1   2001-015A       EARTH      TEME         UTC   \n",
      "3    18 SPCS         CZ-4 DEB  1999-057MB       EARTH      TEME         UTC   \n",
      "4    18 SPCS         CZ-4 DEB  1999-057MC       EARTH      TEME         UTC   \n",
      "\n",
      "  MEAN_ELEMENT_THEORY  ... COUNTRY_CODE  LAUNCH_DATE   SITE     FILE  \\\n",
      "0                SGP4  ...           FR       1992.0  FRGUI  3195178   \n",
      "1                SGP4  ...          CIS       1979.0  PKMTR  3194950   \n",
      "2                SGP4  ...          IND       2001.0    SRI  3195026   \n",
      "3                SGP4  ...          PRC       1999.0    TSC  3194431   \n",
      "4                SGP4  ...          PRC       1999.0    TSC  3194950   \n",
      "\n",
      "       GP_ID          TLE_LINE0  \\\n",
      "0  188614016  0 ARIANE 42P+ DEB   \n",
      "1  188593285         0 SL-8 DEB   \n",
      "2  188609573           0 GSAT 1   \n",
      "3  188556894         0 CZ-4 DEB   \n",
      "4  188592541         0 CZ-4 DEB   \n",
      "\n",
      "                                           TLE_LINE1  \\\n",
      "0  1 26741U 92072J   21304.94919376  .00000883  0...   \n",
      "1  1 26743U 79028C   21304.68908982  .00000079  0...   \n",
      "2  1 26745U 01015A   21305.22411368 -.00000165  0...   \n",
      "3  1 26754U 99057MB  21304.46625230  .00002265  0...   \n",
      "4  1 26755U 99057MC  21304.74081807  .00002610  0...   \n",
      "\n",
      "                                           TLE_LINE2 PERIOD_HOURS  \\\n",
      "0  2 26741   7.7156  90.2410 6528926 243.1216  38...     8.214400   \n",
      "1  2 26743  82.9193 299.1120 0030720 158.9093 201...     1.744817   \n",
      "2  2 26745  12.1717  16.5368 0237386 250.1248 146...    23.116400   \n",
      "3  2 26754  98.4781   8.7205 0060618  37.3771 323...     1.624267   \n",
      "4  2 26755  98.4232 122.0724 0062255 345.1605  27...     1.629933   \n",
      "\n",
      "    ALTITUDE_MI  \n",
      "0   8883.110063  \n",
      "1    613.246709  \n",
      "2  21637.923148  \n",
      "3    400.164419  \n",
      "4    410.306520  \n",
      "\n",
      "[5 rows x 41 columns]\n"
     ]
    }
   ],
   "source": [
    "df['OBJECT_TYPE'] = df['OBJECT_TYPE'].apply(lambda x: 1 if x == 'Payload' else 0)\n",
    "print(df.head())"
   ]
  },
  {
   "cell_type": "markdown",
   "metadata": {},
   "source": [
    "# Encoded categorical variables"
   ]
  },
  {
   "cell_type": "code",
   "execution_count": 28,
   "metadata": {},
   "outputs": [
    {
     "name": "stdout",
     "output_type": "stream",
     "text": [
      "   CCSDS_OMM_VERS                            COMMENT        CREATION_DATE  \\\n",
      "0               2  GENERATED VIA SPACE-TRACK.ORG API  2021-11-01T06:46:11   \n",
      "1               2  GENERATED VIA SPACE-TRACK.ORG API  2021-11-01T04:58:37   \n",
      "2               2  GENERATED VIA SPACE-TRACK.ORG API  2021-11-01T06:26:11   \n",
      "3               2  GENERATED VIA SPACE-TRACK.ORG API  2021-10-31T18:07:15   \n",
      "4               2  GENERATED VIA SPACE-TRACK.ORG API  2021-11-01T04:58:37   \n",
      "\n",
      "  ORIGINATOR      OBJECT_NAME   OBJECT_ID CENTER_NAME REF_FRAME TIME_SYSTEM  \\\n",
      "0    18 SPCS  ARIANE 42P+ DEB   1992-072J       EARTH      TEME         UTC   \n",
      "1    18 SPCS         SL-8 DEB   1979-028C       EARTH      TEME         UTC   \n",
      "2    18 SPCS           GSAT 1   2001-015A       EARTH      TEME         UTC   \n",
      "3    18 SPCS         CZ-4 DEB  1999-057MB       EARTH      TEME         UTC   \n",
      "4    18 SPCS         CZ-4 DEB  1999-057MC       EARTH      TEME         UTC   \n",
      "\n",
      "  MEAN_ELEMENT_THEORY  ... COUNTRY_CODE  LAUNCH_DATE   SITE     FILE  \\\n",
      "0                SGP4  ...           29       1992.0  FRGUI  3195178   \n",
      "1                SGP4  ...           18       1979.0  PKMTR  3194950   \n",
      "2                SGP4  ...           36       2001.0    SRI  3195026   \n",
      "3                SGP4  ...           67       1999.0    TSC  3194431   \n",
      "4                SGP4  ...           67       1999.0    TSC  3194950   \n",
      "\n",
      "       GP_ID          TLE_LINE0  \\\n",
      "0  188614016  0 ARIANE 42P+ DEB   \n",
      "1  188593285         0 SL-8 DEB   \n",
      "2  188609573           0 GSAT 1   \n",
      "3  188556894         0 CZ-4 DEB   \n",
      "4  188592541         0 CZ-4 DEB   \n",
      "\n",
      "                                           TLE_LINE1  \\\n",
      "0  1 26741U 92072J   21304.94919376  .00000883  0...   \n",
      "1  1 26743U 79028C   21304.68908982  .00000079  0...   \n",
      "2  1 26745U 01015A   21305.22411368 -.00000165  0...   \n",
      "3  1 26754U 99057MB  21304.46625230  .00002265  0...   \n",
      "4  1 26755U 99057MC  21304.74081807  .00002610  0...   \n",
      "\n",
      "                                           TLE_LINE2 PERIOD_HOURS  \\\n",
      "0  2 26741   7.7156  90.2410 6528926 243.1216  38...     8.214400   \n",
      "1  2 26743  82.9193 299.1120 0030720 158.9093 201...     1.744817   \n",
      "2  2 26745  12.1717  16.5368 0237386 250.1248 146...    23.116400   \n",
      "3  2 26754  98.4781   8.7205 0060618  37.3771 323...     1.624267   \n",
      "4  2 26755  98.4232 122.0724 0062255 345.1605  27...     1.629933   \n",
      "\n",
      "    ALTITUDE_MI  \n",
      "0   8883.110063  \n",
      "1    613.246709  \n",
      "2  21637.923148  \n",
      "3    400.164419  \n",
      "4    410.306520  \n",
      "\n",
      "[5 rows x 41 columns]\n"
     ]
    }
   ],
   "source": [
    "le_country_code = LabelEncoder()\n",
    "df['COUNTRY_CODE'] = le_country_code.fit_transform(df['COUNTRY_CODE'])\n",
    "le_rcs_size = LabelEncoder()\n",
    "df['RCS_SIZE'] = le_rcs_size.fit_transform(df['RCS_SIZE'])\n",
    "print(df.head())"
   ]
  },
  {
   "cell_type": "markdown",
   "metadata": {},
   "source": [
    "# Filled missing values for numerical columns"
   ]
  },
  {
   "cell_type": "code",
   "execution_count": 29,
   "metadata": {},
   "outputs": [
    {
     "name": "stdout",
     "output_type": "stream",
     "text": [
      "   CCSDS_OMM_VERS                            COMMENT        CREATION_DATE  \\\n",
      "0             2.0  GENERATED VIA SPACE-TRACK.ORG API  2021-11-01T06:46:11   \n",
      "1             2.0  GENERATED VIA SPACE-TRACK.ORG API  2021-11-01T04:58:37   \n",
      "2             2.0  GENERATED VIA SPACE-TRACK.ORG API  2021-11-01T06:26:11   \n",
      "3             2.0  GENERATED VIA SPACE-TRACK.ORG API  2021-10-31T18:07:15   \n",
      "4             2.0  GENERATED VIA SPACE-TRACK.ORG API  2021-11-01T04:58:37   \n",
      "\n",
      "  ORIGINATOR      OBJECT_NAME   OBJECT_ID CENTER_NAME REF_FRAME TIME_SYSTEM  \\\n",
      "0    18 SPCS  ARIANE 42P+ DEB   1992-072J       EARTH      TEME         UTC   \n",
      "1    18 SPCS         SL-8 DEB   1979-028C       EARTH      TEME         UTC   \n",
      "2    18 SPCS           GSAT 1   2001-015A       EARTH      TEME         UTC   \n",
      "3    18 SPCS         CZ-4 DEB  1999-057MB       EARTH      TEME         UTC   \n",
      "4    18 SPCS         CZ-4 DEB  1999-057MC       EARTH      TEME         UTC   \n",
      "\n",
      "  MEAN_ELEMENT_THEORY  ... COUNTRY_CODE  LAUNCH_DATE   SITE       FILE  \\\n",
      "0                SGP4  ...         29.0       1992.0  FRGUI  3195178.0   \n",
      "1                SGP4  ...         18.0       1979.0  PKMTR  3194950.0   \n",
      "2                SGP4  ...         36.0       2001.0    SRI  3195026.0   \n",
      "3                SGP4  ...         67.0       1999.0    TSC  3194431.0   \n",
      "4                SGP4  ...         67.0       1999.0    TSC  3194950.0   \n",
      "\n",
      "         GP_ID          TLE_LINE0  \\\n",
      "0  188614016.0  0 ARIANE 42P+ DEB   \n",
      "1  188593285.0         0 SL-8 DEB   \n",
      "2  188609573.0           0 GSAT 1   \n",
      "3  188556894.0         0 CZ-4 DEB   \n",
      "4  188592541.0         0 CZ-4 DEB   \n",
      "\n",
      "                                           TLE_LINE1  \\\n",
      "0  1 26741U 92072J   21304.94919376  .00000883  0...   \n",
      "1  1 26743U 79028C   21304.68908982  .00000079  0...   \n",
      "2  1 26745U 01015A   21305.22411368 -.00000165  0...   \n",
      "3  1 26754U 99057MB  21304.46625230  .00002265  0...   \n",
      "4  1 26755U 99057MC  21304.74081807  .00002610  0...   \n",
      "\n",
      "                                           TLE_LINE2 PERIOD_HOURS  \\\n",
      "0  2 26741   7.7156  90.2410 6528926 243.1216  38...     8.214400   \n",
      "1  2 26743  82.9193 299.1120 0030720 158.9093 201...     1.744817   \n",
      "2  2 26745  12.1717  16.5368 0237386 250.1248 146...    23.116400   \n",
      "3  2 26754  98.4781   8.7205 0060618  37.3771 323...     1.624267   \n",
      "4  2 26755  98.4232 122.0724 0062255 345.1605  27...     1.629933   \n",
      "\n",
      "    ALTITUDE_MI  \n",
      "0   8883.110063  \n",
      "1    613.246709  \n",
      "2  21637.923148  \n",
      "3    400.164419  \n",
      "4    410.306520  \n",
      "\n",
      "[5 rows x 41 columns]\n"
     ]
    }
   ],
   "source": [
    "imputer = SimpleImputer(strategy='mean')\n",
    "numerical_cols = df.select_dtypes(include=['float64', 'int64']).columns\n",
    "df[numerical_cols] = imputer.fit_transform(df[numerical_cols])\n",
    "print(df.head())"
   ]
  },
  {
   "cell_type": "markdown",
   "metadata": {},
   "source": [
    "# Feature selection"
   ]
  },
  {
   "cell_type": "code",
   "execution_count": 30,
   "metadata": {},
   "outputs": [],
   "source": [
    "features = ['INCLINATION', 'PERIOD_HOURS', 'ALTITUDE_MI', 'ECCENTRICITY', 'RA_OF_ASC_NODE', 'ARG_OF_PERICENTER', 'MEAN_ANOMALY', 'SEMIMAJOR_AXIS', 'APOAPSIS', 'PERIAPSIS']\n",
    "X = df[features]\n",
    "y = df['OBJECT_TYPE']"
   ]
  },
  {
   "cell_type": "markdown",
   "metadata": {},
   "source": [
    "# Added polynomial features"
   ]
  },
  {
   "cell_type": "code",
   "execution_count": 31,
   "metadata": {},
   "outputs": [],
   "source": [
    "poly = PolynomialFeatures(degree=2, include_bias=False)\n",
    "X_poly = poly.fit_transform(X)"
   ]
  },
  {
   "cell_type": "markdown",
   "metadata": {},
   "source": [
    "# Standardized features"
   ]
  },
  {
   "cell_type": "code",
   "execution_count": 32,
   "metadata": {},
   "outputs": [],
   "source": [
    "scaler = StandardScaler()\n",
    "X_poly = scaler.fit_transform(X_poly)"
   ]
  },
  {
   "cell_type": "markdown",
   "metadata": {},
   "source": [
    "# Handled class imbalance using SMOTE"
   ]
  },
  {
   "cell_type": "code",
   "execution_count": 33,
   "metadata": {},
   "outputs": [],
   "source": [
    "smote = SMOTE(random_state=42)\n",
    "X_poly_resampled, y_resampled = smote.fit_resample(X_poly, y)"
   ]
  },
  {
   "cell_type": "markdown",
   "metadata": {},
   "source": [
    "# Split data into training and test sets"
   ]
  },
  {
   "cell_type": "code",
   "execution_count": 34,
   "metadata": {},
   "outputs": [],
   "source": [
    "X_train, X_test, y_train, y_test = train_test_split(X_poly_resampled, y_resampled, test_size=0.3, random_state=42)"
   ]
  },
  {
   "cell_type": "markdown",
   "metadata": {},
   "source": [
    "# Defined the Logistic Regression model with class weights to handle imbalance"
   ]
  },
  {
   "cell_type": "code",
   "execution_count": 35,
   "metadata": {},
   "outputs": [],
   "source": [
    "logreg = LogisticRegression(max_iter=1000, class_weight='balanced')"
   ]
  },
  {
   "cell_type": "markdown",
   "metadata": {},
   "source": [
    "# Hyperparameter tuning using GridSearchCV"
   ]
  },
  {
   "cell_type": "code",
   "execution_count": 36,
   "metadata": {},
   "outputs": [
    {
     "name": "stdout",
     "output_type": "stream",
     "text": [
      "Starting grid search for hyperparameter tuning...\n"
     ]
    },
    {
     "name": "stderr",
     "output_type": "stream",
     "text": [
      "/home/eric_baldwin/anaconda3/lib/python3.10/site-packages/sklearn/linear_model/_sag.py:350: ConvergenceWarning: The max_iter was reached which means the coef_ did not converge\n",
      "  warnings.warn(\n",
      "/home/eric_baldwin/anaconda3/lib/python3.10/site-packages/sklearn/linear_model/_sag.py:350: ConvergenceWarning: The max_iter was reached which means the coef_ did not converge\n",
      "  warnings.warn(\n",
      "/home/eric_baldwin/anaconda3/lib/python3.10/site-packages/sklearn/linear_model/_sag.py:350: ConvergenceWarning: The max_iter was reached which means the coef_ did not converge\n",
      "  warnings.warn(\n",
      "/home/eric_baldwin/anaconda3/lib/python3.10/site-packages/sklearn/linear_model/_sag.py:350: ConvergenceWarning: The max_iter was reached which means the coef_ did not converge\n",
      "  warnings.warn(\n",
      "/home/eric_baldwin/anaconda3/lib/python3.10/site-packages/sklearn/linear_model/_sag.py:350: ConvergenceWarning: The max_iter was reached which means the coef_ did not converge\n",
      "  warnings.warn(\n",
      "/home/eric_baldwin/anaconda3/lib/python3.10/site-packages/sklearn/linear_model/_sag.py:350: ConvergenceWarning: The max_iter was reached which means the coef_ did not converge\n",
      "  warnings.warn(\n",
      "/home/eric_baldwin/anaconda3/lib/python3.10/site-packages/sklearn/linear_model/_sag.py:350: ConvergenceWarning: The max_iter was reached which means the coef_ did not converge\n",
      "  warnings.warn(\n",
      "/home/eric_baldwin/anaconda3/lib/python3.10/site-packages/sklearn/linear_model/_sag.py:350: ConvergenceWarning: The max_iter was reached which means the coef_ did not converge\n",
      "  warnings.warn(\n",
      "/home/eric_baldwin/anaconda3/lib/python3.10/site-packages/sklearn/linear_model/_sag.py:350: ConvergenceWarning: The max_iter was reached which means the coef_ did not converge\n",
      "  warnings.warn(\n",
      "/home/eric_baldwin/anaconda3/lib/python3.10/site-packages/sklearn/linear_model/_sag.py:350: ConvergenceWarning: The max_iter was reached which means the coef_ did not converge\n",
      "  warnings.warn(\n",
      "/home/eric_baldwin/anaconda3/lib/python3.10/site-packages/sklearn/linear_model/_sag.py:350: ConvergenceWarning: The max_iter was reached which means the coef_ did not converge\n",
      "  warnings.warn(\n",
      "/home/eric_baldwin/anaconda3/lib/python3.10/site-packages/sklearn/linear_model/_sag.py:350: ConvergenceWarning: The max_iter was reached which means the coef_ did not converge\n",
      "  warnings.warn(\n",
      "/home/eric_baldwin/anaconda3/lib/python3.10/site-packages/sklearn/linear_model/_sag.py:350: ConvergenceWarning: The max_iter was reached which means the coef_ did not converge\n",
      "  warnings.warn(\n",
      "/home/eric_baldwin/anaconda3/lib/python3.10/site-packages/sklearn/linear_model/_sag.py:350: ConvergenceWarning: The max_iter was reached which means the coef_ did not converge\n",
      "  warnings.warn(\n",
      "/home/eric_baldwin/anaconda3/lib/python3.10/site-packages/sklearn/linear_model/_sag.py:350: ConvergenceWarning: The max_iter was reached which means the coef_ did not converge\n",
      "  warnings.warn(\n",
      "/home/eric_baldwin/anaconda3/lib/python3.10/site-packages/sklearn/linear_model/_sag.py:350: ConvergenceWarning: The max_iter was reached which means the coef_ did not converge\n",
      "  warnings.warn(\n",
      "/home/eric_baldwin/anaconda3/lib/python3.10/site-packages/sklearn/linear_model/_sag.py:350: ConvergenceWarning: The max_iter was reached which means the coef_ did not converge\n",
      "  warnings.warn(\n",
      "/home/eric_baldwin/anaconda3/lib/python3.10/site-packages/sklearn/linear_model/_sag.py:350: ConvergenceWarning: The max_iter was reached which means the coef_ did not converge\n",
      "  warnings.warn(\n",
      "/home/eric_baldwin/anaconda3/lib/python3.10/site-packages/sklearn/linear_model/_sag.py:350: ConvergenceWarning: The max_iter was reached which means the coef_ did not converge\n",
      "  warnings.warn(\n",
      "/home/eric_baldwin/anaconda3/lib/python3.10/site-packages/sklearn/linear_model/_sag.py:350: ConvergenceWarning: The max_iter was reached which means the coef_ did not converge\n",
      "  warnings.warn(\n"
     ]
    },
    {
     "name": "stdout",
     "output_type": "stream",
     "text": [
      "Completed grid search for hyperparameter tuning.\n"
     ]
    }
   ],
   "source": [
    "param_grid = {\n",
    "    'C': [0.1, 1, 10, 100],\n",
    "    'solver': ['liblinear', 'saga']\n",
    "}\n",
    "grid_search = GridSearchCV(logreg, param_grid, cv=5, scoring='f1')\n",
    "print(\"Starting grid search for hyperparameter tuning...\")\n",
    "grid_search.fit(X_train, y_train)\n",
    "print(\"Completed grid search for hyperparameter tuning.\")"
   ]
  },
  {
   "cell_type": "markdown",
   "metadata": {},
   "source": [
    "# Best model from grid search"
   ]
  },
  {
   "cell_type": "code",
   "execution_count": 37,
   "metadata": {},
   "outputs": [],
   "source": [
    "best_logreg = grid_search.best_estimator_"
   ]
  },
  {
   "cell_type": "markdown",
   "metadata": {},
   "source": [
    "# Evaluated the best Logistic Regression model"
   ]
  },
  {
   "cell_type": "code",
   "execution_count": 38,
   "metadata": {},
   "outputs": [
    {
     "name": "stdout",
     "output_type": "stream",
     "text": [
      "              precision    recall  f1-score   support\n",
      "\n",
      "         0.0       0.84      0.83      0.84      2824\n",
      "         1.0       0.83      0.84      0.84      2830\n",
      "\n",
      "    accuracy                           0.84      5654\n",
      "   macro avg       0.84      0.84      0.84      5654\n",
      "weighted avg       0.84      0.84      0.84      5654\n",
      "\n"
     ]
    }
   ],
   "source": [
    "y_pred_logreg = best_logreg.predict(X_test)\n",
    "print(classification_report(y_test, y_pred_logreg))"
   ]
  },
  {
   "cell_type": "markdown",
   "metadata": {},
   "source": [
    "# Printed the best hyperparameters"
   ]
  },
  {
   "cell_type": "code",
   "execution_count": 39,
   "metadata": {},
   "outputs": [
    {
     "name": "stdout",
     "output_type": "stream",
     "text": [
      "Best Hyperparameters: {'C': 100, 'solver': 'liblinear'}\n"
     ]
    }
   ],
   "source": [
    "print(\"Best Hyperparameters:\", grid_search.best_params_)"
   ]
  }
 ],
 "metadata": {
  "kernelspec": {
   "display_name": "base",
   "language": "python",
   "name": "python3"
  },
  "language_info": {
   "codemirror_mode": {
    "name": "ipython",
    "version": 3
   },
   "file_extension": ".py",
   "mimetype": "text/x-python",
   "name": "python",
   "nbconvert_exporter": "python",
   "pygments_lexer": "ipython3",
   "version": "3.10.14"
  }
 },
 "nbformat": 4,
 "nbformat_minor": 2
}
